{
 "cells": [
  {
   "cell_type": "code",
   "execution_count": 2,
   "metadata": {},
   "outputs": [],
   "source": [
    "import Bio \n",
    "from Bio.Seq import Seq"
   ]
  },
  {
   "cell_type": "code",
   "execution_count": 4,
   "metadata": {},
   "outputs": [],
   "source": [
    "seqA = Seq('ATGCGTTTATGACGTATCTGAAGTCTACTAGGGTGATCTGACTAA')\n",
    "seqB = Seq('GTGTTAGTGCGCTAGTGCTGACTAGGTACAGTAGCTAGTTACTAG')"
   ]
  },
  {
   "cell_type": "code",
   "execution_count": 19,
   "metadata": {},
   "outputs": [
    {
     "name": "stdout",
     "output_type": "stream",
     "text": [
      "AUGCGUUUAUGACGUAUCUGAAGUCUACUAGGGUGAUCUGACUAA\n",
      "GUGUUAGUGCGCUAGUGCUGACUAGGUACAGUAGCUAGUUACUAG\n",
      "\n",
      "AUGCGUUUAUGACGUAUCUGAAGUGGUACAGUAGCUAGUUACUAG\n",
      "MRL*RI*SLLG*SD*\n",
      "VLVR*C*LGTVASY*\n",
      "MRL*RI*SGTVASY*\n",
      "\n",
      "AlaSecGlyCysGlySecSecSecAlaSecGlyAlaCysGlySecAlaSecCysSecGlyAlaAlaGlySecCysSecAlaCysSecAlaGlyGlyGlySecGlyAlaSecCysSecGlyAlaCysSecAlaAla\n",
      "GlySecGlySecSecAlaGlySecGlyCysGlyCysSecAlaGlySecGlyCysSecGlyAlaCysSecAlaGlyGlySecAlaCysAlaGlySecAlaGlyCysSecAlaGlySecSecAlaCysSecAlaGly\n",
      "AlaSecGlyCysGlySecSecSecAlaSecGlyAlaCysGlySecAlaSecCysSecGlyAlaAlaGlySecGlyGlySecAlaCysAlaGlySecAlaGlyCysSecAlaGlySecSecAlaCysSecAlaGly\n",
      "\n",
      "ATGCGTTTATGACGTATCTGAAGTGGTACAGTAGCTAGTTACTAG\n",
      "\n",
      "TACGCAAATACTGCATAGACTTCAGATGATCCCACTAGACTGATT\n",
      "CACAATCACGCGATCACGACTGATCCATGTCATCGATCAATGATC\n",
      "TACGCAAATACTGCATAGACTTCACCATGTCATCGATCAATGATC\n"
     ]
    }
   ],
   "source": [
    "\n",
    "#•\tTranscribe the DNA sequence A and sequence B into mRNA.\n",
    "\n",
    "mRNA1 = seqA.transcribe()\n",
    "mRNA2 = seqB.transcribe()\n",
    "\n",
    "print(mRNA1)\n",
    "print(mRNA2)\n",
    "\n",
    "#•\tCombine 24 starting nucleotides of mRNA sequence A and 21 ending nucleotides of mRNA sequence B and set it as mRNA sequence C.\n",
    "\n",
    "mRNA3 = mRNA1[:24] + mRNA2[-21:]\n",
    "print(f'\\n{mRNA3}')\n",
    "\n",
    "#•\tTranslate the mRNA sequence A, sequence B, and sequence C into amino acids sequences.\n",
    "\n",
    "print(mRNA1.translate())\n",
    "print(mRNA2.translate())\n",
    "print(mRNA3.translate())\n",
    "\n",
    "from Bio.SeqUtils import seq3\n",
    "print(f'\\n{seq3(mRNA1)}')\n",
    "print(seq3(mRNA2))\n",
    "print(seq3(mRNA3)) #bedanya seq3 lebih lengkap\n",
    "\n",
    "#•\tTranscribe back the mRNA sequence C into DNA.\n",
    "seqC = mRNA3.back_transcribe()\n",
    "print(f'\\n{seqC}')\n",
    "\n",
    "#•\tCalculate the complementary sequences of DNA sequence A, sequence B, and sequence C.\n",
    "\n",
    "print(f'\\n{seqA.complement()}')\n",
    "print(seqB.complement())\n",
    "print(seqC.complement())"
   ]
  }
 ],
 "metadata": {
  "kernelspec": {
   "display_name": "Python 3",
   "language": "python",
   "name": "python3"
  },
  "language_info": {
   "codemirror_mode": {
    "name": "ipython",
    "version": 3
   },
   "file_extension": ".py",
   "mimetype": "text/x-python",
   "name": "python",
   "nbconvert_exporter": "python",
   "pygments_lexer": "ipython3",
   "version": "3.11.1"
  },
  "orig_nbformat": 4
 },
 "nbformat": 4,
 "nbformat_minor": 2
}
