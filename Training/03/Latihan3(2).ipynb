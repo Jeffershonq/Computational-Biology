{
 "cells": [
  {
   "cell_type": "code",
   "execution_count": 1,
   "metadata": {},
   "outputs": [
    {
     "name": "stdout",
     "output_type": "stream",
     "text": [
      "ATGCGTTTATGACGTATCTGAAGTCTACTAGGGTGATCTGACTAA\n",
      "GTGTTAGTGCGCTAGTGCTGACTAGGTACAGTAGCTAGTTACTAG\n"
     ]
    }
   ],
   "source": [
    "# Import Libraries\n",
    "\n",
    "from Bio.Seq import Seq\n",
    "\n",
    "seq1 = Seq('ATGCGTTTATGACGTATCTGAAGTCTACTAGGGTGATCTGACTAA')\n",
    "seq2 = Seq('GTGTTAGTGCGCTAGTGCTGACTAGGTACAGTAGCTAGTTACTAG')\n",
    "\n",
    "print(seq1)\n",
    "print(seq2)"
   ]
  },
  {
   "cell_type": "code",
   "execution_count": 6,
   "metadata": {},
   "outputs": [
    {
     "name": "stdout",
     "output_type": "stream",
     "text": [
      "AUGCGUUUAUGACGUAUCUGAAGUCUACUAGGGUGAUCUGACUAA\n",
      "GUGUUAGUGCGCUAGUGCUGACUAGGUACAGUAGCUAGUUACUAG\n"
     ]
    }
   ],
   "source": [
    "# Transcribe DNA -> mRNA\n",
    "\n",
    "mRna1 = seq1.transcribe()\n",
    "print(mRna1)\n",
    "mRna2 = seq2.transcribe()\n",
    "print(mRna2)"
   ]
  },
  {
   "cell_type": "code",
   "execution_count": 9,
   "metadata": {},
   "outputs": [
    {
     "name": "stdout",
     "output_type": "stream",
     "text": [
      "AUGCGUUUAUGACGUAUCUGAAGUGGUACAGUAGCUAGUUACUAG\n"
     ]
    }
   ],
   "source": [
    "# Combine\n",
    "\n",
    "comb1 = mRna1[:24]\n",
    "comb2 = mRna2[-21:]\n",
    "\n",
    "mRna3 = comb1 + comb2\n",
    "print(mRna3)"
   ]
  },
  {
   "cell_type": "code",
   "execution_count": 10,
   "metadata": {},
   "outputs": [
    {
     "name": "stdout",
     "output_type": "stream",
     "text": [
      "MRL*RI*SLLG*SD*\n",
      "VLVR*C*LGTVASY*\n",
      "MRL*RI*SGTVASY*\n"
     ]
    }
   ],
   "source": [
    "# Translation\n",
    "\n",
    "amino1 = mRna1.translate()\n",
    "amino2 = mRna2.translate()\n",
    "amino3 = mRna3.translate()\n",
    "\n",
    "print(amino1)\n",
    "print(amino2)\n",
    "print(amino3)"
   ]
  },
  {
   "cell_type": "code",
   "execution_count": 11,
   "metadata": {},
   "outputs": [
    {
     "name": "stdout",
     "output_type": "stream",
     "text": [
      "ATGCGTTTATGACGTATCTGAAGTGGTACAGTAGCTAGTTACTAG\n"
     ]
    }
   ],
   "source": [
    "# Back Transcribe\n",
    "\n",
    "dna = mRna3.back_transcribe()\n",
    "print(dna)"
   ]
  },
  {
   "cell_type": "code",
   "execution_count": 12,
   "metadata": {},
   "outputs": [
    {
     "name": "stdout",
     "output_type": "stream",
     "text": [
      "TACGCAAATACTGCATAGACTTCAGATGATCCCACTAGACTGATT\n",
      "CACAATCACGCGATCACGACTGATCCATGTCATCGATCAATGATC\n",
      "TACGCAAATACTGCATAGACTTCACCATGTCATCGATCAATGATC\n"
     ]
    }
   ],
   "source": [
    "# Complement\n",
    "\n",
    "print(seq1.complement())\n",
    "print(seq2.complement())\n",
    "print(dna.complement())"
   ]
  }
 ],
 "metadata": {
  "kernelspec": {
   "display_name": "Python 3",
   "language": "python",
   "name": "python3"
  },
  "language_info": {
   "codemirror_mode": {
    "name": "ipython",
    "version": 3
   },
   "file_extension": ".py",
   "mimetype": "text/x-python",
   "name": "python",
   "nbconvert_exporter": "python",
   "pygments_lexer": "ipython3",
   "version": "3.11.0"
  },
  "orig_nbformat": 4
 },
 "nbformat": 4,
 "nbformat_minor": 2
}
