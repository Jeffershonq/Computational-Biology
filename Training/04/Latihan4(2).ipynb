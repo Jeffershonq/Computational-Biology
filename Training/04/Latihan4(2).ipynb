{
 "cells": [
  {
   "cell_type": "code",
   "execution_count": 1,
   "metadata": {},
   "outputs": [
    {
     "name": "stdout",
     "output_type": "stream",
     "text": [
      "AAGCTTAGCTAGAGCAGTCAGCTAGCTAGCT\n",
      "TCTGAAGCTAGCTAGTGCATAGCTAGCTAGC\n"
     ]
    }
   ],
   "source": [
    "# Import Libraries\n",
    "\n",
    "from Bio.Seq import Seq\n",
    "\n",
    "seq1 = Seq('AAGCTTAGCTAGAGCAGTCAGCTAGCTAGCT')\n",
    "seq2 = Seq('TCTGAAGCTAGCTAGTGCATAGCTAGCTAGC')\n",
    "\n",
    "print(seq1)\n",
    "print(seq2)"
   ]
  },
  {
   "cell_type": "code",
   "execution_count": 4,
   "metadata": {},
   "outputs": [
    {
     "name": "stdout",
     "output_type": "stream",
     "text": [
      "26.0\n",
      "1 AAGCTTAGCTAGA-GCAGTCAGCTAGCTAGC\n",
      "  |||| |||||||  ||| | |||||||||||\n",
      "5 AAGC-TAGCTAG-TGCA-T-AGCTAGCTAGC\n",
      "  Score=26\n",
      "\n",
      "1 AAGCTTAGCTAGA-GCAGTCAGCTAGCTAGC\n",
      "  ||||| ||||||  ||| | |||||||||||\n",
      "5 AAGCT-AGCTAG-TGCA-T-AGCTAGCTAGC\n",
      "  Score=26\n",
      "\n",
      "1 AAGCTTAGCTAGAGCAGTCAGCTAGCTAGC\n",
      "  |||| |||||||.||| | |||||||||||\n",
      "5 AAGC-TAGCTAGTGCA-T-AGCTAGCTAGC\n",
      "  Score=26\n",
      "\n",
      "1 AAGCTTAGCTAGAGCAGTCAGCTAGCTAGC\n",
      "  ||||| ||||||.||| | |||||||||||\n",
      "5 AAGCT-AGCTAGTGCA-T-AGCTAGCTAGC\n",
      "  Score=26\n",
      "\n"
     ]
    }
   ],
   "source": [
    "from Bio import pairwise2\n",
    "\n",
    "align = pairwise2.align.localxx(seq1, seq2)\n",
    "alignScore = pairwise2.align.localxx(seq1, seq2, one_alignment_only = True, score_only = True)\n",
    "print(alignScore)\n",
    "\n",
    "for alignment in align:\n",
    "    print(pairwise2.format_alignment(*alignment))"
   ]
  },
  {
   "cell_type": "code",
   "execution_count": 10,
   "metadata": {},
   "outputs": [
    {
     "name": "stdout",
     "output_type": "stream",
     "text": [
      "30\n"
     ]
    }
   ],
   "source": [
    "ham = len([(x,y) for x,y in zip(seq1,seq2) if x != y])\n",
    "print(ham)"
   ]
  },
  {
   "cell_type": "code",
   "execution_count": 11,
   "metadata": {},
   "outputs": [
    {
     "data": {
      "text/plain": [
       "9"
      ]
     },
     "execution_count": 11,
     "metadata": {},
     "output_type": "execute_result"
    }
   ],
   "source": [
    "# LevenSthein\n",
    "\n",
    "from Levenshtein import distance\n",
    "distance(seq1,seq2)"
   ]
  },
  {
   "cell_type": "code",
   "execution_count": 14,
   "metadata": {},
   "outputs": [
    {
     "name": "stdout",
     "output_type": "stream",
     "text": [
      " | AAGCTTAGCTAGAGCAGTCAGCTAGCTAGCT\n",
      "T |    ■■   ■       ■    ■   ■   ■\n",
      "C |   ■    ■     ■   ■  ■   ■   ■ \n",
      "T |    ■■   ■       ■    ■   ■   ■\n",
      "G |  ■    ■   ■ ■  ■   ■   ■   ■  \n",
      "A |■■    ■   ■ ■  ■   ■   ■   ■   \n",
      "A |■■    ■   ■ ■  ■   ■   ■   ■   \n",
      "G |  ■    ■   ■ ■  ■   ■   ■   ■  \n",
      "C |   ■    ■     ■   ■  ■   ■   ■ \n",
      "T |    ■■   ■       ■    ■   ■   ■\n",
      "A |■■    ■   ■ ■  ■   ■   ■   ■   \n",
      "G |  ■    ■   ■ ■  ■   ■   ■   ■  \n",
      "C |   ■    ■     ■   ■  ■   ■   ■ \n",
      "T |    ■■   ■       ■    ■   ■   ■\n",
      "A |■■    ■   ■ ■  ■   ■   ■   ■   \n",
      "G |  ■    ■   ■ ■  ■   ■   ■   ■  \n",
      "T |    ■■   ■       ■    ■   ■   ■\n",
      "G |  ■    ■   ■ ■  ■   ■   ■   ■  \n",
      "C |   ■    ■     ■   ■  ■   ■   ■ \n",
      "A |■■    ■   ■ ■  ■   ■   ■   ■   \n",
      "T |    ■■   ■       ■    ■   ■   ■\n",
      "A |■■    ■   ■ ■  ■   ■   ■   ■   \n",
      "G |  ■    ■   ■ ■  ■   ■   ■   ■  \n",
      "C |   ■    ■     ■   ■  ■   ■   ■ \n",
      "T |    ■■   ■       ■    ■   ■   ■\n",
      "A |■■    ■   ■ ■  ■   ■   ■   ■   \n",
      "G |  ■    ■   ■ ■  ■   ■   ■   ■  \n",
      "C |   ■    ■     ■   ■  ■   ■   ■ \n",
      "T |    ■■   ■       ■    ■   ■   ■\n",
      "A |■■    ■   ■ ■  ■   ■   ■   ■   \n",
      "G |  ■    ■   ■ ■  ■   ■   ■   ■  \n",
      "C |   ■    ■     ■   ■  ■   ■   ■ \n"
     ]
    }
   ],
   "source": [
    "def dot_plot(seq1, seq2):\n",
    "    blank = ' '\n",
    "    fill = chr(0x25A0)\n",
    "    print(' |',seq1)\n",
    "    for i in seq2:\n",
    "        print(i + ' |', end = '')\n",
    "        for j in seq1:\n",
    "            if i == j:\n",
    "                print(fill, end = '')\n",
    "            else:\n",
    "                print(blank, end = '')\n",
    "        print()\n",
    "\n",
    "dot_plot(seq1, seq2)"
   ]
  },
  {
   "cell_type": "code",
   "execution_count": null,
   "metadata": {},
   "outputs": [],
   "source": []
  }
 ],
 "metadata": {
  "kernelspec": {
   "display_name": "Python 3",
   "language": "python",
   "name": "python3"
  },
  "language_info": {
   "codemirror_mode": {
    "name": "ipython",
    "version": 3
   },
   "file_extension": ".py",
   "mimetype": "text/x-python",
   "name": "python",
   "nbconvert_exporter": "python",
   "pygments_lexer": "ipython3",
   "version": "3.11.0"
  },
  "orig_nbformat": 4
 },
 "nbformat": 4,
 "nbformat_minor": 2
}
