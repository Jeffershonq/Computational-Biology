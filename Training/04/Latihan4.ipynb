{
 "cells": [
  {
   "cell_type": "code",
   "execution_count": 1,
   "metadata": {},
   "outputs": [],
   "source": [
    "# Import Libraries\n",
    "\n",
    "from Bio.Seq import Seq\n",
    "\n",
    "seq1 = Seq('AAGCTTAGCTAGAGCAGTCAGCTAGCTAGCT')\n",
    "seq2 = Seq('TCTGAAGCTAGCTAGTGCATAGCTAGCTAGC')"
   ]
  },
  {
   "cell_type": "code",
   "execution_count": 4,
   "metadata": {},
   "outputs": [
    {
     "name": "stdout",
     "output_type": "stream",
     "text": [
      "1 AAGCTTAGCTAGA-GCAGTCAGCTAGCTAGC\n",
      "  |||| |||||||  ||| | |||||||||||\n",
      "5 AAGC-TAGCTAG-TGCA-T-AGCTAGCTAGC\n",
      "  Score=26\n",
      "\n",
      "1 AAGCTTAGCTAGA-GCAGTCAGCTAGCTAGC\n",
      "  ||||| ||||||  ||| | |||||||||||\n",
      "5 AAGCT-AGCTAG-TGCA-T-AGCTAGCTAGC\n",
      "  Score=26\n",
      "\n",
      "1 AAGCTTAGCTAGAGCAGTCAGCTAGCTAGC\n",
      "  |||| |||||||.||| | |||||||||||\n",
      "5 AAGC-TAGCTAGTGCA-T-AGCTAGCTAGC\n",
      "  Score=26\n",
      "\n",
      "1 AAGCTTAGCTAGAGCAGTCAGCTAGCTAGC\n",
      "  ||||| ||||||.||| | |||||||||||\n",
      "5 AAGCT-AGCTAGTGCA-T-AGCTAGCTAGC\n",
      "  Score=26\n",
      "\n",
      "26.0\n"
     ]
    }
   ],
   "source": [
    "from Bio import pairwise2\n",
    "\n",
    "localAlign = (pairwise2.align.localxx(seq1,seq2))\n",
    "localAlignSore = (pairwise2.align.localxx(seq1,seq2, one_alignment_only = True, score_only = True))\n",
    "\n",
    "for alignment in localAlign:\n",
    "    print(pairwise2.format_alignment(*alignment))\n",
    "\n",
    "print(localAlignSore)"
   ]
  },
  {
   "cell_type": "code",
   "execution_count": 5,
   "metadata": {},
   "outputs": [
    {
     "data": {
      "text/plain": [
       "9"
      ]
     },
     "execution_count": 5,
     "metadata": {},
     "output_type": "execute_result"
    }
   ],
   "source": [
    "from Levenshtein import distance\n",
    "\n",
    "distance(seq1,seq2)"
   ]
  },
  {
   "cell_type": "code",
   "execution_count": 7,
   "metadata": {},
   "outputs": [
    {
     "name": "stdout",
     "output_type": "stream",
     "text": [
      " |AAGCTTAGCTAGAGCAGTCAGCTAGCTAGCT\n",
      "A |■■    ■   ■ ■  ■   ■   ■   ■   \n",
      "A |■■    ■   ■ ■  ■   ■   ■   ■   \n",
      "G |  ■    ■   ■ ■  ■   ■   ■   ■  \n",
      "C |   ■    ■     ■   ■  ■   ■   ■ \n",
      "T |    ■■   ■       ■    ■   ■   ■\n",
      "T |    ■■   ■       ■    ■   ■   ■\n",
      "A |■■    ■   ■ ■  ■   ■   ■   ■   \n",
      "G |  ■    ■   ■ ■  ■   ■   ■   ■  \n",
      "C |   ■    ■     ■   ■  ■   ■   ■ \n",
      "T |    ■■   ■       ■    ■   ■   ■\n",
      "A |■■    ■   ■ ■  ■   ■   ■   ■   \n",
      "G |  ■    ■   ■ ■  ■   ■   ■   ■  \n",
      "A |■■    ■   ■ ■  ■   ■   ■   ■   \n",
      "G |  ■    ■   ■ ■  ■   ■   ■   ■  \n",
      "C |   ■    ■     ■   ■  ■   ■   ■ \n",
      "A |■■    ■   ■ ■  ■   ■   ■   ■   \n",
      "G |  ■    ■   ■ ■  ■   ■   ■   ■  \n",
      "T |    ■■   ■       ■    ■   ■   ■\n",
      "C |   ■    ■     ■   ■  ■   ■   ■ \n",
      "A |■■    ■   ■ ■  ■   ■   ■   ■   \n",
      "G |  ■    ■   ■ ■  ■   ■   ■   ■  \n",
      "C |   ■    ■     ■   ■  ■   ■   ■ \n",
      "T |    ■■   ■       ■    ■   ■   ■\n",
      "A |■■    ■   ■ ■  ■   ■   ■   ■   \n",
      "G |  ■    ■   ■ ■  ■   ■   ■   ■  \n",
      "C |   ■    ■     ■   ■  ■   ■   ■ \n",
      "T |    ■■   ■       ■    ■   ■   ■\n",
      "A |■■    ■   ■ ■  ■   ■   ■   ■   \n",
      "G |  ■    ■   ■ ■  ■   ■   ■   ■  \n",
      "C |   ■    ■     ■   ■  ■   ■   ■ \n",
      "T |    ■■   ■       ■    ■   ■   ■\n"
     ]
    }
   ],
   "source": [
    "# Dot Plot\n",
    "\n",
    "def def_plot(seq1, seq2):\n",
    "    blank = ' '\n",
    "    fill = chr(0x25A0)\n",
    "    print(' |' + seq1)\n",
    "    for i in seq1:\n",
    "        print(i + ' |', end = '')\n",
    "        for j in seq1:\n",
    "            if i == j:\n",
    "                print(fill, end = '')\n",
    "            else:\n",
    "                print(blank, end = '')\n",
    "        print()\n",
    "\n",
    "def_plot(seq1,seq2)"
   ]
  }
 ],
 "metadata": {
  "kernelspec": {
   "display_name": "Python 3",
   "language": "python",
   "name": "python3"
  },
  "language_info": {
   "codemirror_mode": {
    "name": "ipython",
    "version": 3
   },
   "file_extension": ".py",
   "mimetype": "text/x-python",
   "name": "python",
   "nbconvert_exporter": "python",
   "pygments_lexer": "ipython3",
   "version": "3.11.0"
  },
  "orig_nbformat": 4
 },
 "nbformat": 4,
 "nbformat_minor": 2
}
