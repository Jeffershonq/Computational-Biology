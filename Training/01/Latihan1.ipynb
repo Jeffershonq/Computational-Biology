{
 "cells": [
  {
   "cell_type": "code",
   "execution_count": 6,
   "metadata": {},
   "outputs": [],
   "source": [
    "# Import libraries\n",
    "from Bio.Seq import Seq\n",
    "\n",
    "seq1 = Seq('AGCTTGCAGCGTCCGTTAGCTCGAGTCCAGGACGTTAGTCCTGCAGTC')\n",
    "seq2 = Seq(\"CAGTAAGTTGCCGTTAGCGCGTAGTGCCAGTAAGCGGCTCGTTAGTGG\")"
   ]
  },
  {
   "cell_type": "code",
   "execution_count": 7,
   "metadata": {},
   "outputs": [
    {
     "name": "stdout",
     "output_type": "stream",
     "text": [
      "48\n",
      "48\n"
     ]
    }
   ],
   "source": [
    "# Find Length\n",
    "\n",
    "length1 = len(seq1)\n",
    "print(length1)\n",
    "length2 = len(seq2)\n",
    "print(length2)"
   ]
  },
  {
   "cell_type": "code",
   "execution_count": 11,
   "metadata": {},
   "outputs": [
    {
     "name": "stdout",
     "output_type": "stream",
     "text": [
      "0\n",
      "1\n"
     ]
    }
   ],
   "source": [
    "# Determine Number of Codon\n",
    "\n",
    "search = 'CGC'\n",
    "print(seq1.count(search))\n",
    "print(seq2.count(search))"
   ]
  },
  {
   "cell_type": "code",
   "execution_count": 14,
   "metadata": {},
   "outputs": [
    {
     "name": "stdout",
     "output_type": "stream",
     "text": [
      "43\n",
      "-1\n"
     ]
    }
   ],
   "source": [
    "# Locate the first occcuer idx\n",
    "\n",
    "subseq = 'CAGTC'\n",
    "print(seq1.find(subseq))\n",
    "print(seq2.find(subseq))"
   ]
  },
  {
   "cell_type": "code",
   "execution_count": 42,
   "metadata": {},
   "outputs": [
    {
     "name": "stdout",
     "output_type": "stream",
     "text": [
      "AGCTTGCAGCGTCCGTCGTTAGTGG\n",
      "25\n"
     ]
    }
   ],
   "source": [
    "subSeq1 = seq1[:15]\n",
    "subSeq2 = seq2[-10:]\n",
    "\n",
    "seqc = subSeq1 + subSeq2\n",
    "print(seqc)\n",
    "\n",
    "lenbine = len(seqc)\n",
    "print(lenbine)"
   ]
  },
  {
   "cell_type": "code",
   "execution_count": 43,
   "metadata": {},
   "outputs": [
    {
     "data": {
      "text/plain": [
       "Seq('GGTGATTGCTGCCTGCGACGTTCGA')"
      ]
     },
     "execution_count": 43,
     "metadata": {},
     "output_type": "execute_result"
    }
   ],
   "source": [
    "# Reverse\n",
    "\n",
    "reverse = seqc[::-1]\n",
    "reverse"
   ]
  },
  {
   "cell_type": "code",
   "execution_count": 56,
   "metadata": {},
   "outputs": [
    {
     "name": "stdout",
     "output_type": "stream",
     "text": [
      "Counter({'G': 14, 'C': 14, 'T': 12, 'A': 8})\n",
      "dict_keys(['A', 'G', 'C', 'T'])\n",
      "dict_values([8, 14, 14, 12])\n"
     ]
    },
    {
     "data": {
      "image/png": "[encoded data removed]",
      "text/plain": [
       "<Figure size 640x480 with 1 Axes>"
      ]
     },
     "metadata": {},
     "output_type": "display_data"
    }
   ],
   "source": [
    "from matplotlib import pyplot as plt\n",
    "from collections import Counter\n",
    "\n",
    "counterA = Counter(seq1)\n",
    "key = counterA.keys()\n",
    "value = counterA.values()\n",
    "\n",
    "print(counterA)\n",
    "print(key)\n",
    "print(value)\n",
    "\n",
    "plt.title(\"Sequence A\")\n",
    "plt.bar(key,value)\n",
    "plt.show()"
   ]
  }
 ],
 "metadata": {
  "kernelspec": {
   "display_name": "Python 3",
   "language": "python",
   "name": "python3"
  },
  "language_info": {
   "codemirror_mode": {
    "name": "ipython",
    "version": 3
   },
   "file_extension": ".py",
   "mimetype": "text/x-python",
   "name": "python",
   "nbconvert_exporter": "python",
   "pygments_lexer": "ipython3",
   "version": "3.11.0"
  },
  "orig_nbformat": 4
 },
 "nbformat": 4,
 "nbformat_minor": 2
}
