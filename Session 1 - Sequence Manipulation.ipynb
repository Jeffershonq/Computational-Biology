{
 "cells": [
  {
   "cell_type": "code",
   "execution_count": 2,
   "metadata": {},
   "outputs": [],
   "source": [
    "# Import Libraries\n",
    "\n",
    "from Bio.Seq import Seq\n"
   ]
  },
  {
   "cell_type": "code",
   "execution_count": 3,
   "metadata": {},
   "outputs": [
    {
     "name": "stdout",
     "output_type": "stream",
     "text": [
      "CGACTCGACTCGACT\n",
      "CGAUCGAUCGAU\n",
      "MIS\n"
     ]
    }
   ],
   "source": [
    "# Create Sequence\n",
    "\n",
    "seq_dna = Seq('CGACTCGACTCGACT')\n",
    "seq_rna = Seq('CGAUCGAUCGAU')\n",
    "seq_protein = Seq('MIS')\n",
    "\n",
    "print(seq_dna)\n",
    "print(seq_rna)\n",
    "print(seq_protein)"
   ]
  },
  {
   "cell_type": "code",
   "execution_count": 4,
   "metadata": {},
   "outputs": [
    {
     "ename": "SyntaxError",
     "evalue": "invalid syntax (211713951.py, line 9)",
     "output_type": "error",
     "traceback": [
      "\u001b[1;36m  Input \u001b[1;32mIn [4]\u001b[1;36m\u001b[0m\n\u001b[1;33m    seq_dna[]\u001b[0m\n\u001b[1;37m            ^\u001b[0m\n\u001b[1;31mSyntaxError\u001b[0m\u001b[1;31m:\u001b[0m invalid syntax\n"
     ]
    }
   ],
   "source": [
    "# Sequence Manipulation\n",
    "\n",
    "# Length Sequence\n",
    "len(seq_dna)\n",
    "len('CGACTCGACTCGACT')\n",
    "\n",
    "# Slicing\n",
    "# variable[idxawal:odxakhir-1:lompatan]\n",
    "seq_dna[]"
   ]
  }
 ],
 "metadata": {
  "kernelspec": {
   "display_name": "Python 3",
   "language": "python",
   "name": "python3"
  },
  "language_info": {
   "codemirror_mode": {
    "name": "ipython",
    "version": 3
   },
   "file_extension": ".py",
   "mimetype": "text/x-python",
   "name": "python",
   "nbconvert_exporter": "python",
   "pygments_lexer": "ipython3",
   "version": "3.10.2"
  },
  "orig_nbformat": 4
 },
 "nbformat": 4,
 "nbformat_minor": 2
}
